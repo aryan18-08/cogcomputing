{
 "cells": [
  {
   "cell_type": "code",
   "execution_count": 22,
   "id": "f3da0f61-f118-4b08-87fe-fb016daa1e71",
   "metadata": {},
   "outputs": [
    {
     "name": "stdout",
     "output_type": "stream",
     "text": [
      "[3 4 5 6 7]\n",
      "[ 3  6  9 12 15]\n",
      "[0 1 1 2 2]\n"
     ]
    }
   ],
   "source": [
    "#Q1\n",
    "import numpy as np\n",
    "a=np.array([1,2,3,4,5])\n",
    "b=a.copy()\n",
    "c=a.copy()\n",
    "for i in range(len(a)):\n",
    "    a[i]=a[i]+2\n",
    "print(a)\n",
    "for i in range(len(b)):\n",
    "    b[i]=b[i]*3\n",
    "print(b)\n",
    "for i in range(len(c)):\n",
    "    c[i]=c[i]/2\n",
    "print(c)"
   ]
  },
  {
   "cell_type": "code",
   "execution_count": 36,
   "id": "1feb6aa4-2dac-443f-aabe-30b0a07ae3ad",
   "metadata": {},
   "outputs": [
    {
     "name": "stdout",
     "output_type": "stream",
     "text": [
      "[5 4 6 3 2 1]\n",
      "the most frequent value of x is: 1\n",
      "and the indices are: [0 5 7 8 9]\n",
      "the most frequent value of y is: 1\n",
      "and the indices are: [0 1 2]\n"
     ]
    }
   ],
   "source": [
    "#Q2\n",
    "arr=np.array([1,2,3,6,4,5])\n",
    "c=np.flip(arr)\n",
    "print(c)\n",
    "\n",
    "x=np.array([1,2,3,4,5,1,2,1,1,1])\n",
    "z=np.bincount(x)\n",
    "mf=np.argmax(z)\n",
    "print(f\"the most frequent value of x is: {mf}\")\n",
    "indices=np.where(x==mf)[0]\n",
    "print(f\"and the indices are: {indices}\")\n",
    "\n",
    "y=np.array([1,1,1,2,3,4,2,4,3,3])\n",
    "a=np.bincount(y)\n",
    "mf2=np.argmax(a)\n",
    "print(f\"the most frequent value of y is: {mf2}\")\n",
    "index=np.where(y==mf2)[0]\n",
    "print(f\"and the indices are: {index}\")"
   ]
  },
  {
   "cell_type": "code",
   "execution_count": 38,
   "id": "f0295154-ff7d-46c3-be47-8cfa59dba4d4",
   "metadata": {},
   "outputs": [
    {
     "name": "stdout",
     "output_type": "stream",
     "text": [
      "20\n",
      "70\n"
     ]
    }
   ],
   "source": [
    "#Q3\n",
    "arr=np.array([[10, 20, 30], [40, 50, 60], [70, 80, 90]])\n",
    "print(arr[0,1])\n",
    "print(arr[2,0])"
   ]
  },
  {
   "cell_type": "code",
   "execution_count": 45,
   "id": "f8ad7739-3de9-410f-b71d-646c10528f9e",
   "metadata": {},
   "outputs": [
    {
     "name": "stdout",
     "output_type": "stream",
     "text": [
      "[ 10.    13.75  17.5   21.25  25.    28.75  32.5   36.25  40.    43.75\n",
      "  47.5   51.25  55.    58.75  62.5   66.25  70.    73.75  77.5   81.25\n",
      "  85.    88.75  92.5   96.25 100.  ]\n",
      "1\n",
      "(25,)\n",
      "25\n",
      "float64\n",
      "200\n",
      "[[ 10.  ]\n",
      " [ 13.75]\n",
      " [ 17.5 ]\n",
      " [ 21.25]\n",
      " [ 25.  ]\n",
      " [ 28.75]\n",
      " [ 32.5 ]\n",
      " [ 36.25]\n",
      " [ 40.  ]\n",
      " [ 43.75]\n",
      " [ 47.5 ]\n",
      " [ 51.25]\n",
      " [ 55.  ]\n",
      " [ 58.75]\n",
      " [ 62.5 ]\n",
      " [ 66.25]\n",
      " [ 70.  ]\n",
      " [ 73.75]\n",
      " [ 77.5 ]\n",
      " [ 81.25]\n",
      " [ 85.  ]\n",
      " [ 88.75]\n",
      " [ 92.5 ]\n",
      " [ 96.25]\n",
      " [100.  ]]\n",
      "[ 10.    13.75  17.5   21.25  25.    28.75  32.5   36.25  40.    43.75\n",
      "  47.5   51.25  55.    58.75  62.5   66.25  70.    73.75  77.5   81.25\n",
      "  85.    88.75  92.5   96.25 100.  ]\n"
     ]
    }
   ],
   "source": [
    "#Q4\n",
    "aryan=np.linspace(10,100,25)\n",
    "print(aryan)\n",
    "print(aryan.ndim)\n",
    "print(aryan.shape)\n",
    "print(aryan.size)\n",
    "print(aryan.dtype)\n",
    "print(aryan.nbytes)\n",
    "\n",
    "t_aryan=aryan.reshape(25,1)\n",
    "print(t_aryan)\n",
    "t_aryan2=aryan.T\n",
    "print(t_aryan2)\n",
    "#reshape and t attribute give different answers"
   ]
  },
  {
   "cell_type": "code",
   "execution_count": 50,
   "id": "0cc22f0c-c664-4ec1-8710-f9f752629276",
   "metadata": {},
   "outputs": [
    {
     "name": "stdout",
     "output_type": "stream",
     "text": [
      "mean is: 43.333333333333336\n",
      "median is: 37.5\n",
      "max element is: 90\n",
      "min element is: 10\n",
      "unique element are: [10 15 20 30 35 40 50 60 70 80 90]\n",
      "[[10 20 30]\n",
      " [40 50 60]\n",
      " [70 80 90]\n",
      " [15 20 35]]\n",
      "[[10 20 30]\n",
      " [40 50 60]]\n"
     ]
    }
   ],
   "source": [
    "#Q5\n",
    "ucs420_aryan=np.array([[10,20,30,40],[50,60,70,80],[90,15,20,35]])\n",
    "print(f\"mean is: {np.mean(ucs420_aryan)}\")\n",
    "print(f\"median is: {np.median(ucs420_aryan)}\")\n",
    "print(f\"max element is: {np.max(ucs420_aryan)}\")\n",
    "print(f\"min element is: {np.min(ucs420_aryan)}\")\n",
    "print(f\"unique element are: {np.unique(ucs420_aryan)}\")\n",
    "reshaped_ucs420_aryan=ucs420_aryan.reshape(4,3)\n",
    "print(reshaped_ucs420_aryan)\n",
    "resized_ucs420_aryan=np.resize(reshaped_ucs420_aryan,(2,3))\n",
    "print(resized_ucs420_aryan)"
   ]
  },
  {
   "cell_type": "code",
   "execution_count": null,
   "id": "24cb23da-864f-43b9-81cd-90ae0b1becc8",
   "metadata": {},
   "outputs": [],
   "source": []
  }
 ],
 "metadata": {
  "kernelspec": {
   "display_name": "Python 3 (ipykernel)",
   "language": "python",
   "name": "python3"
  },
  "language_info": {
   "codemirror_mode": {
    "name": "ipython",
    "version": 3
   },
   "file_extension": ".py",
   "mimetype": "text/x-python",
   "name": "python",
   "nbconvert_exporter": "python",
   "pygments_lexer": "ipython3",
   "version": "3.12.7"
  }
 },
 "nbformat": 4,
 "nbformat_minor": 5
}
